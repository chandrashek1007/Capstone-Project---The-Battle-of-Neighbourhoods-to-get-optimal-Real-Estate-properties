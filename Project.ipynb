{
 "cells": [
  {
   "cell_type": "markdown",
   "metadata": {},
   "source": [
    "# Capstone Project - The Battle of Neighborhoods to get optimal Real-Estate properties"
   ]
  },
  {
   "cell_type": "markdown",
   "metadata": {},
   "source": [
    "## Business Problem section"
   ]
  },
  {
   "cell_type": "markdown",
   "metadata": {},
   "source": [
    "### Background"
   ]
  },
  {
   "cell_type": "markdown",
   "metadata": {},
   "source": [
    "New York City’s housing market has largely recovered from the financial crisis of 2008, but that doesn’t necessarily mean that buying a home here is, in the long run, a good investment. That’s the conclusion from a new report by StreetEasy, which looks at how home values in the city have changed in the 10 years since the Great Recession.\n",
    "Additionally, home values have overall gone up since the post-crisis low of November 2011. StreetEasy found that those have risen by a whopping 30 percent in the past seven years, at an average of nearly four percent per year."
   ]
  },
  {
   "cell_type": "markdown",
   "metadata": {},
   "source": [
    "### Business Problem"
   ]
  },
  {
   "cell_type": "markdown",
   "metadata": {},
   "source": [
    "The problem scenario is to suggest the homebuyers clientele to purchase a suitable real estate in New York using Machine Learning Algorithms.\n",
    "\n",
    "As a result, the business problem we are currently posing is:\n",
    "\n",
    "**How could we provide  suggestions to homebuyers clients to purchase a suitable real estate in New York street in this depreciating economy?**\n",
    "\n",
    "To solve this business problem, we are going to cluster New York neighborhoods in order to recommend venues and the current average price of real estate where homebuyers can make a real estate investment.Also we will recommend profitable venues  venues i.e. pharmacy, restaurants, hospitals & grocery stores."
   ]
  },
  {
   "cell_type": "markdown",
   "metadata": {},
   "source": [
    "## Data Section"
   ]
  },
  {
   "cell_type": "markdown",
   "metadata": {},
   "source": [
    "The Department of Finance (DOF) maintains records for all property sales in New York City, including sales of family homes in each borough(https://data.cityofnewyork.us/api/views/948r-3ads/rows.csv?accessType=DOWNLOAD). \n",
    "\n",
    "This list includes all sales of 1-, 2-, and 3-Family Homes' from January 1st, 2009 to December 31, 2009, whose sale price is equal to or more than $150,000. The Building Class Category for Sales is based on the Building Class at the time of the sale. \n",
    "\n",
    "To explore and target recommended locations across different venues according to the presence of amenities and essential facilities, we will access data through FourSquare API interface and arrange them as a dataframe for visualization. By merging data on New York properties and the relative price paid data from the HM Land Registry and data on amenities and essential facilities surrounding such properties from FourSquare API interface, we will be able to recommend profitable real estate investments."
   ]
  },
  {
   "cell_type": "markdown",
   "metadata": {},
   "source": [
    "## Methodology"
   ]
  },
  {
   "cell_type": "markdown",
   "metadata": {},
   "source": [
    "1. Collect Inspection Data\n",
    "2. Explore and Understand Data\n",
    "3. Data preparation and preprocessing \n",
    "4. Modeling"
   ]
  },
  {
   "cell_type": "markdown",
   "metadata": {},
   "source": [
    "# Implementation"
   ]
  },
  {
   "cell_type": "code",
   "execution_count": 1,
   "metadata": {},
   "outputs": [
    {
     "name": "stdout",
     "output_type": "stream",
     "text": [
      "Libraries imported.\n"
     ]
    }
   ],
   "source": [
    "#Beautifulsoup library helps in web scraping data from webpage\n",
    "from bs4 import BeautifulSoup\n",
    "#lxml library is the parser used to parse the content from diffrent HTML Tags\n",
    "import lxml\n",
    "# Requests library helps in getting the content of the webpage\n",
    "import requests as req\n",
    "# library to handle data in a vectorized manner\n",
    "import numpy as np\n",
    "#library for Data Analysis\n",
    "import pandas as pd\n",
    "# library to handle JSON files\n",
    "import json \n",
    "# convert an address into latitude and longitude values\n",
    "from geopy.geocoders import Nominatim \n",
    "# library to handle requests\n",
    "import requests \n",
    "# tranform JSON file into a pandas dataframe\n",
    "from pandas.io.json import json_normalize \n",
    "# Matplotlib and associated plotting modules\n",
    "import matplotlib.cm as cm\n",
    "import matplotlib as plt\n",
    "import matplotlib.colors as colors\n",
    "# import k-means from clustering stage\n",
    "from sklearn.cluster import KMeans\n",
    "# map rendering library\n",
    "import folium \n",
    "# library to find median of List\n",
    "from numpy import median\n",
    "print('Libraries imported.')"
   ]
  },
  {
   "cell_type": "markdown",
   "metadata": {},
   "source": [
    "## 1. Collect Inspection data"
   ]
  },
  {
   "cell_type": "code",
   "execution_count": 2,
   "metadata": {},
   "outputs": [
    {
     "name": "stdout",
     "output_type": "stream",
     "text": [
      "--2019-03-22 22:08:00--  https://data.cityofnewyork.us/api/views/948r-3ads/rows.csv?accessType=DOWNLOAD\n",
      "Resolving data.cityofnewyork.us (data.cityofnewyork.us)... 52.206.140.205, 52.206.140.199, 52.206.68.26\n",
      "Connecting to data.cityofnewyork.us (data.cityofnewyork.us)|52.206.140.205|:443... connected.\n",
      "HTTP request sent, awaiting response... 200 OK\n",
      "Length: unspecified [text/csv]\n",
      "Saving to: ‘ny_neighbourhood.csv’\n",
      "\n",
      "ny_neighbourhood.cs     [ <=>                  ]  18.18K  --.-KB/s   in 0s     \n",
      "\n",
      "2019-03-22 22:08:01 (164 MB/s) - ‘ny_neighbourhood.csv’ saved [18612]\n",
      "\n"
     ]
    }
   ],
   "source": [
    "# Download the Neighbourhood of NewYork with price dataset\n",
    "!wget -O ny_neighbourhood.csv  https://data.cityofnewyork.us/api/views/948r-3ads/rows.csv?accessType=DOWNLOAD"
   ]
  },
  {
   "cell_type": "markdown",
   "metadata": {},
   "source": [
    "## 2. Explore Data"
   ]
  },
  {
   "cell_type": "code",
   "execution_count": 3,
   "metadata": {},
   "outputs": [
    {
     "data": {
      "text/html": [
       "<div>\n",
       "<style scoped>\n",
       "    .dataframe tbody tr th:only-of-type {\n",
       "        vertical-align: middle;\n",
       "    }\n",
       "\n",
       "    .dataframe tbody tr th {\n",
       "        vertical-align: top;\n",
       "    }\n",
       "\n",
       "    .dataframe thead th {\n",
       "        text-align: right;\n",
       "    }\n",
       "</style>\n",
       "<table border=\"1\" class=\"dataframe\">\n",
       "  <thead>\n",
       "    <tr style=\"text-align: right;\">\n",
       "      <th></th>\n",
       "      <th>NEIGHBORHOOD</th>\n",
       "      <th>TYPE OF HOME</th>\n",
       "      <th>TOTAL NO. OF PROPERTIES</th>\n",
       "      <th>NUMBER OF SALES</th>\n",
       "      <th>LOWEST SALE PRICE</th>\n",
       "      <th>AVERAGE SALE PRICE</th>\n",
       "      <th>MEDIAN SALE PRICE</th>\n",
       "      <th>HIGHEST SALE PRICE</th>\n",
       "    </tr>\n",
       "  </thead>\n",
       "  <tbody>\n",
       "    <tr>\n",
       "      <th>0</th>\n",
       "      <td>AIRPORT LA GUARDIA</td>\n",
       "      <td>01 ONE FAMILY HOMES</td>\n",
       "      <td>84</td>\n",
       "      <td>1</td>\n",
       "      <td>485000.0</td>\n",
       "      <td>485000.0</td>\n",
       "      <td>485000.0</td>\n",
       "      <td>485000.0</td>\n",
       "    </tr>\n",
       "    <tr>\n",
       "      <th>1</th>\n",
       "      <td>AIRPORT LA GUARDIA</td>\n",
       "      <td>02 TWO FAMILY HOMES</td>\n",
       "      <td>14</td>\n",
       "      <td>1</td>\n",
       "      <td>480000.0</td>\n",
       "      <td>480000.0</td>\n",
       "      <td>480000.0</td>\n",
       "      <td>480000.0</td>\n",
       "    </tr>\n",
       "    <tr>\n",
       "      <th>2</th>\n",
       "      <td>ARVERNE</td>\n",
       "      <td>01 ONE FAMILY HOMES</td>\n",
       "      <td>696</td>\n",
       "      <td>32</td>\n",
       "      <td>161000.0</td>\n",
       "      <td>297194.0</td>\n",
       "      <td>310276.0</td>\n",
       "      <td>390291.0</td>\n",
       "    </tr>\n",
       "    <tr>\n",
       "      <th>3</th>\n",
       "      <td>ARVERNE</td>\n",
       "      <td>02 TWO FAMILY HOMES</td>\n",
       "      <td>1528</td>\n",
       "      <td>112</td>\n",
       "      <td>160000.0</td>\n",
       "      <td>505043.0</td>\n",
       "      <td>427868.0</td>\n",
       "      <td>1170987.0</td>\n",
       "    </tr>\n",
       "    <tr>\n",
       "      <th>4</th>\n",
       "      <td>ARVERNE</td>\n",
       "      <td>03 THREE FAMILY HOMES</td>\n",
       "      <td>137</td>\n",
       "      <td>6</td>\n",
       "      <td>165000.0</td>\n",
       "      <td>414658.0</td>\n",
       "      <td>506796.0</td>\n",
       "      <td>582320.0</td>\n",
       "    </tr>\n",
       "  </tbody>\n",
       "</table>\n",
       "</div>"
      ],
      "text/plain": [
       "                NEIGHBORHOOD                                 TYPE OF HOME  \\\n",
       "0  AIRPORT LA GUARDIA         01 ONE FAMILY HOMES                           \n",
       "1  AIRPORT LA GUARDIA         02 TWO FAMILY HOMES                           \n",
       "2  ARVERNE                    01 ONE FAMILY HOMES                           \n",
       "3  ARVERNE                    02 TWO FAMILY HOMES                           \n",
       "4  ARVERNE                    03 THREE FAMILY HOMES                         \n",
       "\n",
       "   TOTAL NO. OF PROPERTIES  NUMBER OF SALES  LOWEST SALE PRICE  \\\n",
       "0                       84                1           485000.0   \n",
       "1                       14                1           480000.0   \n",
       "2                      696               32           161000.0   \n",
       "3                     1528              112           160000.0   \n",
       "4                      137                6           165000.0   \n",
       "\n",
       "   AVERAGE SALE PRICE  MEDIAN SALE PRICE  HIGHEST SALE PRICE  \n",
       "0            485000.0           485000.0            485000.0  \n",
       "1            480000.0           480000.0            480000.0  \n",
       "2            297194.0           310276.0            390291.0  \n",
       "3            505043.0           427868.0           1170987.0  \n",
       "4            414658.0           506796.0            582320.0  "
      ]
     },
     "execution_count": 3,
     "metadata": {},
     "output_type": "execute_result"
    }
   ],
   "source": [
    "#Reading the dataset value to DataFrame\n",
    "original_data=pd.read_csv('ny_neighbourhood.csv')\n",
    "original_data.head()"
   ]
  },
  {
   "cell_type": "markdown",
   "metadata": {},
   "source": [
    "##  3. Preprocessing "
   ]
  },
  {
   "cell_type": "code",
   "execution_count": null,
   "metadata": {},
   "outputs": [
    {
     "data": {
      "text/html": [
       "<div>\n",
       "<style scoped>\n",
       "    .dataframe tbody tr th:only-of-type {\n",
       "        vertical-align: middle;\n",
       "    }\n",
       "\n",
       "    .dataframe tbody tr th {\n",
       "        vertical-align: top;\n",
       "    }\n",
       "\n",
       "    .dataframe thead th {\n",
       "        text-align: right;\n",
       "    }\n",
       "</style>\n",
       "<table border=\"1\" class=\"dataframe\">\n",
       "  <thead>\n",
       "    <tr style=\"text-align: right;\">\n",
       "      <th></th>\n",
       "      <th>NEIGHBORHOOD</th>\n",
       "      <th>TYPE OF HOME</th>\n",
       "      <th>TOTAL NO. OF PROPERTIES</th>\n",
       "      <th>NUMBER OF SALES</th>\n",
       "      <th>LOWEST SALE PRICE</th>\n",
       "      <th>AVERAGE SALE PRICE</th>\n",
       "      <th>MEDIAN SALE PRICE</th>\n",
       "      <th>HIGHEST SALE PRICE</th>\n",
       "    </tr>\n",
       "  </thead>\n",
       "  <tbody>\n",
       "    <tr>\n",
       "      <th>0</th>\n",
       "      <td>AIRPORT LA GUARDIA</td>\n",
       "      <td>0</td>\n",
       "      <td>84</td>\n",
       "      <td>1</td>\n",
       "      <td>485000.0</td>\n",
       "      <td>485000.0</td>\n",
       "      <td>485000.0</td>\n",
       "      <td>485000.0</td>\n",
       "    </tr>\n",
       "    <tr>\n",
       "      <th>1</th>\n",
       "      <td>AIRPORT LA GUARDIA</td>\n",
       "      <td>1</td>\n",
       "      <td>14</td>\n",
       "      <td>1</td>\n",
       "      <td>480000.0</td>\n",
       "      <td>480000.0</td>\n",
       "      <td>480000.0</td>\n",
       "      <td>480000.0</td>\n",
       "    </tr>\n",
       "    <tr>\n",
       "      <th>2</th>\n",
       "      <td>ARVERNE</td>\n",
       "      <td>0</td>\n",
       "      <td>696</td>\n",
       "      <td>32</td>\n",
       "      <td>161000.0</td>\n",
       "      <td>297194.0</td>\n",
       "      <td>310276.0</td>\n",
       "      <td>390291.0</td>\n",
       "    </tr>\n",
       "    <tr>\n",
       "      <th>3</th>\n",
       "      <td>ARVERNE</td>\n",
       "      <td>1</td>\n",
       "      <td>1528</td>\n",
       "      <td>112</td>\n",
       "      <td>160000.0</td>\n",
       "      <td>505043.0</td>\n",
       "      <td>427868.0</td>\n",
       "      <td>1170987.0</td>\n",
       "    </tr>\n",
       "    <tr>\n",
       "      <th>4</th>\n",
       "      <td>ARVERNE</td>\n",
       "      <td>2</td>\n",
       "      <td>137</td>\n",
       "      <td>6</td>\n",
       "      <td>165000.0</td>\n",
       "      <td>414658.0</td>\n",
       "      <td>506796.0</td>\n",
       "      <td>582320.0</td>\n",
       "    </tr>\n",
       "  </tbody>\n",
       "</table>\n",
       "</div>"
      ],
      "text/plain": [
       "                NEIGHBORHOOD  TYPE OF HOME  TOTAL NO. OF PROPERTIES  \\\n",
       "0  AIRPORT LA GUARDIA                    0                       84   \n",
       "1  AIRPORT LA GUARDIA                    1                       14   \n",
       "2  ARVERNE                               0                      696   \n",
       "3  ARVERNE                               1                     1528   \n",
       "4  ARVERNE                               2                      137   \n",
       "\n",
       "   NUMBER OF SALES  LOWEST SALE PRICE  AVERAGE SALE PRICE  MEDIAN SALE PRICE  \\\n",
       "0                1           485000.0            485000.0           485000.0   \n",
       "1                1           480000.0            480000.0           480000.0   \n",
       "2               32           161000.0            297194.0           310276.0   \n",
       "3              112           160000.0            505043.0           427868.0   \n",
       "4                6           165000.0            414658.0           506796.0   \n",
       "\n",
       "   HIGHEST SALE PRICE  \n",
       "0            485000.0  \n",
       "1            480000.0  \n",
       "2            390291.0  \n",
       "3           1170987.0  \n",
       "4            582320.0  "
      ]
     },
     "execution_count": 4,
     "metadata": {},
     "output_type": "execute_result"
    }
   ],
   "source": [
    "#Label Encoding for Type of Homes\n",
    "from sklearn.preprocessing import LabelEncoder\n",
    "labelencoder = LabelEncoder()\n",
    "original_data['TYPE OF HOME'] = labelencoder.fit_transform(original_data['TYPE OF HOME'])\n",
    "original_data.head()"
   ]
  },
  {
   "cell_type": "markdown",
   "metadata": {},
   "source": [
    "The following Label Encoded value can be mapped as follows:\n",
    "\n",
    "**0  = 01 ONE FAMILY HOMES**  \n",
    "**1  = 02 TWO FAMILY HOMES**  \n",
    "**2  = 03 THREE FAMILY HOMES**"
   ]
  },
  {
   "cell_type": "code",
   "execution_count": null,
   "metadata": {},
   "outputs": [],
   "source": [
    "count=0\n",
    "lat=[]\n",
    "lon=[]\n",
    "from geopy.geocoders import Nominatim\n",
    "for i in original_data['NEIGHBORHOOD']:\n",
    "    address = i+' , New York, USA'\n",
    "\n",
    "    geolocator = Nominatim(user_agent=\"ny_explorer\")\n",
    "    location = geolocator.geocode(address)\n",
    "    if location==None:\n",
    "        latitude = 40.7136\n",
    "        longitude = -73.7965\n",
    "        #print('{},{},{}'.format(address,latitude,longitude))\n",
    "        lat.append(latitude)\n",
    "        lon.append(longitude)\n",
    "        continue\n",
    "    latitude = location.latitude\n",
    "    longitude = location.longitude\n",
    "    #print('{},{},{}'.format(address,latitude,longitude))\n",
    "    lat.append(latitude)\n",
    "    lon.append(longitude)\n",
    "    \n",
    "    \n",
    "#Outlier Reduction and Treatment\n",
    "lat_med=median(lat)\n",
    "lon_med=median(lon)\n",
    "for i in range(0,len(lat)):\n",
    "    #print(lat[i])\n",
    "    if lat[i]>41:\n",
    "        lat[i]=lat_med\n",
    "        #print(lat[i])\n",
    "for i in range(0,len(lon)):\n",
    "    #print(lat[i])\n",
    "    if lon[i]<-74:\n",
    "        lon[i]=lon_med\n",
    "        #print(lat[i])\n",
    "\n",
    "#print(lat)\n",
    "original_data['LONGITUDE']=lon\n",
    "original_data['LATITUDE']=lat\n",
    "\n"
   ]
  },
  {
   "cell_type": "code",
   "execution_count": null,
   "metadata": {},
   "outputs": [],
   "source": [
    "#Getting the Data \n",
    "original_data.head()\n"
   ]
  },
  {
   "cell_type": "code",
   "execution_count": null,
   "metadata": {},
   "outputs": [],
   "source": [
    "#Getting the Geographical Location both Longitude and Latitude of New York , USA\n",
    "from geopy.geocoders import Nominatim\n",
    "address = 'NEW YORK'\n",
    "geolocator = Nominatim(user_agent=\"tr_explorer\")\n",
    "location = geolocator.geocode(address)\n",
    "latitude = location.latitude\n",
    "longitude = location.longitude\n",
    "print('The geograpical coordinate of New York City are {}, {}.'.format(latitude, longitude))"
   ]
  },
  {
   "cell_type": "markdown",
   "metadata": {},
   "source": [
    "## Plotting the Neighborhoods of NewYork present in Dataset"
   ]
  },
  {
   "cell_type": "code",
   "execution_count": null,
   "metadata": {},
   "outputs": [],
   "source": [
    "# create map of New York using latitude and longitude values\n",
    "map_newyork = folium.Map(location=[latitude, longitude], zoom_start=11)\n",
    "\n",
    "# add markers to map\n",
    "for lat, lng, price, street in zip(original_data['LATITUDE'], original_data['LONGITUDE'], original_data['AVERAGE SALE PRICE'], original_data['NEIGHBORHOOD']):\n",
    "    label = '{}, {}'.format(street, price)\n",
    "    label = folium.Popup(label, parse_html=True)\n",
    "    folium.CircleMarker(\n",
    "        [lat, lng],\n",
    "        radius=5,\n",
    "        popup=label,\n",
    "        color='blue',\n",
    "        fill=True,\n",
    "        fill_color='#3186cc',\n",
    "        fill_opacity=0.7,\n",
    "        parse_html=False).add_to(map_newyork)  \n",
    "    \n",
    "map_newyork"
   ]
  },
  {
   "cell_type": "code",
   "execution_count": null,
   "metadata": {},
   "outputs": [],
   "source": [
    "CLIENT_ID = 'TZ2P2CCEDAWFAQXREEPK30XUHXJD20G4JMEKDH0PZ4KESADF' # Foursquare ID\n",
    "CLIENT_SECRET = '4FEVNVQT5FQ2XKR2X1YPSDM4NE3B4SC2BDDBSJB43VWDONCB' # Foursquare Secret\n",
    "VERSION = '20190226' # Foursquare API version\n",
    "LIMIT=100\n",
    "print('Your credentails:')\n",
    "print('CLIENT_ID: ' + CLIENT_ID)\n",
    "print('CLIENT_SECRET:' + CLIENT_SECRET)"
   ]
  },
  {
   "cell_type": "code",
   "execution_count": null,
   "metadata": {},
   "outputs": [],
   "source": [
    "def getNearbyVenues(names, latitudes, longitudes, radius=2500, LIMIT=100):\n",
    "    \n",
    "    venues_list=[]\n",
    "    for name, lat, lng in zip(names, latitudes, longitudes):\n",
    "        print(name)\n",
    "            \n",
    "        # create the API request URL\n",
    "        url = 'https://api.foursquare.com/v2/venues/explore?&client_id={}&client_secret={}&v={}&ll={},{}&radius={}&limit={}'.format(\n",
    "            CLIENT_ID, \n",
    "            CLIENT_SECRET, \n",
    "            VERSION, \n",
    "            lat, \n",
    "            lng, \n",
    "            radius, \n",
    "            LIMIT)\n",
    "            \n",
    "        # make the GET request\n",
    "        results = requests.get(url).json()[\"response\"]['groups'][0]['items']\n",
    "        \n",
    "        # return only relevant information for each nearby venue\n",
    "        venues_list.append([(\n",
    "            name, \n",
    "            lat, \n",
    "            lng, \n",
    "            v['venue']['name'], \n",
    "            v['venue']['location']['lat'], \n",
    "            v['venue']['location']['lng'],  \n",
    "            v['venue']['categories'][0]['name']) for v in results])\n",
    "\n",
    "    nearby_venues = pd.DataFrame([item for venue_list in venues_list for item in venue_list])\n",
    "    nearby_venues.columns = ['Street', \n",
    "                  'Street Latitude', \n",
    "                  'Street Longitude', \n",
    "                  'Venue', \n",
    "                  'Venue Latitude', \n",
    "                  'Venue Longitude', \n",
    "                  'Venue Category']\n",
    "    \n",
    "    return(nearby_venues)"
   ]
  },
  {
   "cell_type": "markdown",
   "metadata": {},
   "source": [
    "## Getting Near By Venues of New York"
   ]
  },
  {
   "cell_type": "code",
   "execution_count": null,
   "metadata": {},
   "outputs": [],
   "source": [
    "newyork_venues = getNearbyVenues(names=original_data['NEIGHBORHOOD'],\n",
    "                                   latitudes=original_data['LATITUDE'],\n",
    "                                   longitudes=original_data['LONGITUDE']\n",
    "                                  )\n",
    "newyork_venues"
   ]
  },
  {
   "cell_type": "code",
   "execution_count": null,
   "metadata": {},
   "outputs": [],
   "source": [
    "# Grouping the venues according to Street\n",
    "newyork_venues.groupby('Street').count()\n"
   ]
  },
  {
   "cell_type": "code",
   "execution_count": null,
   "metadata": {},
   "outputs": [],
   "source": [
    "ax = newyork_venues['Street'].value_counts().plot(kind='bar', figsize=(20, 10),color=['#CD5C5C'],fontsize=14, width=0.4)\n",
    "\n",
    "ax.set_title('Frequency of nearby venues distribution of NewYork ',fontsize=14)\n",
    "#ax.spines['right'].set_visible(False)\n",
    "#ax.spines['top'].set_visible(False)\n",
    "#ax.spines['left'].set_visible(False)\n",
    "\n",
    "ax.set_ylabel('Count',fontsize=14)"
   ]
  },
  {
   "cell_type": "code",
   "execution_count": null,
   "metadata": {},
   "outputs": [],
   "source": [
    "# get the List of Unique Categories\n",
    "print('There are {} uniques categories.'.format(len(newyork_venues['Venue Category'].unique())))"
   ]
  },
  {
   "cell_type": "code",
   "execution_count": null,
   "metadata": {},
   "outputs": [],
   "source": [
    "newyork_venues.shape"
   ]
  },
  {
   "cell_type": "code",
   "execution_count": null,
   "metadata": {},
   "outputs": [],
   "source": [
    "# one hot encoding\n",
    "venues_onehot = pd.get_dummies(newyork_venues[['Venue Category']], prefix=\"\", prefix_sep=\"\")\n",
    "\n",
    "# add street column back to dataframe\n",
    "venues_onehot['Street'] = newyork_venues['Street'] \n",
    "\n",
    "# move street column to the first column\n",
    "fixed_columns = [venues_onehot.columns[-1]] + list(venues_onehot.columns[:-1])\n",
    "\n",
    "#fixed_columns\n",
    "venues_onehot = venues_onehot[fixed_columns]\n",
    "\n",
    "venues_onehot.head()"
   ]
  },
  {
   "cell_type": "code",
   "execution_count": null,
   "metadata": {},
   "outputs": [],
   "source": [
    "newyork_grouped = venues_onehot.groupby('Street').mean().reset_index()\n",
    "newyork_grouped.head()"
   ]
  },
  {
   "cell_type": "code",
   "execution_count": null,
   "metadata": {},
   "outputs": [],
   "source": [
    "newyork_grouped.shape"
   ]
  },
  {
   "cell_type": "markdown",
   "metadata": {},
   "source": [
    "## Top Five Venues"
   ]
  },
  {
   "cell_type": "code",
   "execution_count": null,
   "metadata": {},
   "outputs": [],
   "source": [
    "num_top_venues = 5\n",
    "\n",
    "for hood in newyork_grouped['Street']:\n",
    "    print(\"----\"+hood+\"----\")\n",
    "    temp = newyork_grouped[newyork_grouped['Street'] == hood].T.reset_index()\n",
    "    temp.columns = ['venue','freq']\n",
    "    temp = temp.iloc[1:]\n",
    "    temp['freq'] = temp['freq'].astype(float)\n",
    "    temp = temp.round({'freq': 2})\n",
    "    print(temp.sort_values('freq', ascending=False).reset_index(drop=True).head(num_top_venues))\n",
    "    print('\\n')"
   ]
  },
  {
   "cell_type": "code",
   "execution_count": null,
   "metadata": {},
   "outputs": [],
   "source": [
    "# Define a function to return the most common venues/facilities nearby real estate investments#\n",
    "\n",
    "def return_most_common_venues(row, num_top_venues):\n",
    "    row_categories = row.iloc[1:]\n",
    "    row_categories_sorted = row_categories.sort_values(ascending=False)\n",
    "    \n",
    "    return row_categories_sorted.index.values[0:num_top_venues]"
   ]
  },
  {
   "cell_type": "code",
   "execution_count": null,
   "metadata": {},
   "outputs": [],
   "source": [
    "num_top_venues = 10\n",
    "\n",
    "indicators = ['st', 'nd', 'rd']\n",
    "\n",
    "# create columns according to number of top venues\n",
    "columns = ['Street']\n",
    "for ind in np.arange(num_top_venues):\n",
    "    try:\n",
    "        columns.append('{}{} Most Common Venue'.format(ind+1, indicators[ind]))\n",
    "    except:\n",
    "        columns.append('{}th Most Common Venue'.format(ind+1))"
   ]
  },
  {
   "cell_type": "code",
   "execution_count": null,
   "metadata": {},
   "outputs": [],
   "source": [
    "# create a new dataframe\n",
    "venues_sorted = pd.DataFrame(columns=columns)\n",
    "venues_sorted['Street'] = newyork_grouped['Street']\n",
    "\n",
    "for ind in np.arange(newyork_grouped.shape[0]):\n",
    "    venues_sorted.iloc[ind, 1:] = return_most_common_venues(newyork_grouped.iloc[ind, :], num_top_venues)"
   ]
  },
  {
   "cell_type": "code",
   "execution_count": null,
   "metadata": {},
   "outputs": [],
   "source": [
    "venues_sorted.head()\n"
   ]
  },
  {
   "cell_type": "markdown",
   "metadata": {},
   "source": [
    "## 4. Modelling"
   ]
  },
  {
   "cell_type": "markdown",
   "metadata": {},
   "source": [
    "## Determining the Optimal K Value for KMeans algorithm"
   ]
  },
  {
   "cell_type": "code",
   "execution_count": null,
   "metadata": {},
   "outputs": [],
   "source": [
    "newyork_grouped_clustering = newyork_grouped.drop('Street', 1)\n",
    "Sum_of_squared_distances = []\n",
    "K = range(1,15)\n",
    "for kclusters in K:\n",
    "    kmeans = KMeans(n_clusters=kclusters, random_state=2).fit(newyork_grouped_clustering)\n",
    "    Sum_of_squared_distances.append(kmeans.inertia_)"
   ]
  },
  {
   "cell_type": "code",
   "execution_count": null,
   "metadata": {},
   "outputs": [],
   "source": [
    "import matplotlib.pyplot as plt\n",
    "plt.plot(K, Sum_of_squared_distances, 'bx-')\n",
    "plt.xlabel('k')\n",
    "plt.ylabel('Sum_of_squared_distances')\n",
    "plt.title('Elbow Method For Optimal k')\n",
    "plt.show()"
   ]
  },
  {
   "cell_type": "markdown",
   "metadata": {},
   "source": [
    "### From above graph the Elbow point is in **k=4** which is the optimal value of K-Means clustering"
   ]
  },
  {
   "cell_type": "code",
   "execution_count": null,
   "metadata": {},
   "outputs": [],
   "source": [
    "# set number of clusters\n",
    "kclusters = 4\n",
    "\n",
    "newyork_grouped_clustering = newyork_grouped.drop('Street', 1)\n",
    "\n",
    "# run k-means clustering\n",
    "kmeans = KMeans(n_clusters=kclusters, random_state=0).fit(newyork_grouped_clustering)\n",
    "\n",
    "# check cluster labels generated for each row in the dataframe\n",
    "kmeans.labels_[0:10] "
   ]
  },
  {
   "cell_type": "code",
   "execution_count": null,
   "metadata": {},
   "outputs": [],
   "source": [
    "#newyork_merged.drop('Cluster Labels',1)\n",
    "#venues_sorted.drop('Cluster Labels',1,inplace=True)\n"
   ]
  },
  {
   "cell_type": "code",
   "execution_count": null,
   "metadata": {},
   "outputs": [],
   "source": [
    "# add clustering labels\n",
    "venues_sorted.insert(0, 'Cluster Labels', kmeans.labels_)\n",
    "\n",
    "newyork_merged = original_data\n",
    "\n",
    "# merge toronto_grouped with toronto_data to add latitude/longitude for each neighborhood\n",
    "newyork_merged = newyork_merged.join(venues_sorted.set_index('Street'), on='NEIGHBORHOOD')\n",
    "\n",
    "newyork_merged.head() # check the last columns!\n"
   ]
  },
  {
   "cell_type": "code",
   "execution_count": null,
   "metadata": {},
   "outputs": [],
   "source": [
    "#newyork_merged.to_csv('A_data.csv')"
   ]
  },
  {
   "cell_type": "code",
   "execution_count": null,
   "metadata": {},
   "outputs": [],
   "source": [
    "import matplotlib.cm as cm\n",
    "import matplotlib.colors as colors\n",
    "# create map\n",
    "map_clusters = folium.Map(location=[latitude, longitude], zoom_start=11)\n",
    "\n",
    "# set color scheme for the clusters\n",
    "x = np.arange(kclusters)\n",
    "ys = [i + x + (i*x)**2 for i in range(kclusters)]\n",
    "colors_array = cm.rainbow(np.linspace(0, 1, len(ys)))\n",
    "rainbow = [colors.rgb2hex(i) for i in colors_array]\n",
    "\n",
    "# add markers to the map\n",
    "markers_colors = []\n",
    "for lat, lon, poi, cluster in zip(newyork_merged['LATITUDE'], newyork_merged['LONGITUDE'], newyork_merged['NEIGHBORHOOD'], newyork_merged['Cluster Labels']):\n",
    "    label = folium.Popup(str(poi) + ' Cluster ' + str(cluster), parse_html=True)\n",
    "    folium.CircleMarker(\n",
    "        [lat, lon],\n",
    "        radius=5,\n",
    "        popup=label,\n",
    "        color=rainbow[cluster-1],\n",
    "        fill=True,\n",
    "        fill_color=rainbow[cluster-1],\n",
    "        fill_opacity=0.7).add_to(map_clusters)\n",
    "       \n",
    "map_clusters"
   ]
  },
  {
   "cell_type": "markdown",
   "metadata": {},
   "source": [
    "## Data in Cluster 1 after KMeans"
   ]
  },
  {
   "cell_type": "code",
   "execution_count": null,
   "metadata": {},
   "outputs": [],
   "source": [
    "newyork_merged.loc[newyork_merged['Cluster Labels'] == 0, newyork_merged.columns[[1] + list(range(5, newyork_merged.shape[1]))]]"
   ]
  },
  {
   "cell_type": "markdown",
   "metadata": {},
   "source": [
    "## Data in Cluster 2 after KMeans\n"
   ]
  },
  {
   "cell_type": "code",
   "execution_count": null,
   "metadata": {},
   "outputs": [],
   "source": [
    "newyork_merged.loc[newyork_merged['Cluster Labels'] == 1, newyork_merged.columns[[1] + list(range(5, newyork_merged.shape[1]))]]"
   ]
  },
  {
   "cell_type": "markdown",
   "metadata": {},
   "source": [
    "## Data in Cluster 3 after KMeans\n"
   ]
  },
  {
   "cell_type": "code",
   "execution_count": null,
   "metadata": {},
   "outputs": [],
   "source": [
    "newyork_merged.loc[newyork_merged['Cluster Labels'] == 2, newyork_merged.columns[[1] + list(range(5, newyork_merged.shape[1]))]]"
   ]
  },
  {
   "cell_type": "markdown",
   "metadata": {},
   "source": [
    "## Data in Cluster 4 after KMeans\n"
   ]
  },
  {
   "cell_type": "code",
   "execution_count": null,
   "metadata": {},
   "outputs": [],
   "source": [
    "newyork_merged.loc[newyork_merged['Cluster Labels'] == 3, newyork_merged.columns[[1] + list(range(5, newyork_merged.shape[1]))]]"
   ]
  },
  {
   "cell_type": "code",
   "execution_count": null,
   "metadata": {},
   "outputs": [],
   "source": [
    "mean_data=newyork_merged.groupby('Cluster Labels')['AVERAGE SALE PRICE'].mean()\n",
    "mean_data=pd.DataFrame(mean_data)\n",
    "mean_data"
   ]
  },
  {
   "cell_type": "code",
   "execution_count": null,
   "metadata": {},
   "outputs": [],
   "source": [
    "ax = mean_data['AVERAGE SALE PRICE'].plot(kind='bar', figsize=(10, 5),color=['#CD5C5C'],fontsize=14, width=0.2)\n",
    "\n",
    "ax.set_title('Mean Sale Price of Data for all clusters ',fontsize=14)\n",
    "#ax.spines['right'].set_visible(False)\n",
    "#ax.spines['top'].set_visible(False)\n",
    "#ax.spines['left'].set_visible(False)\n",
    "\n",
    "ax.set_ylabel('AVERAGE SALE PRICE',fontsize=14)"
   ]
  },
  {
   "cell_type": "code",
   "execution_count": null,
   "metadata": {},
   "outputs": [],
   "source": [
    "\n",
    "median_data=newyork_merged.groupby('Cluster Labels')['MEDIAN SALE PRICE'].mean()\n",
    "median_data=pd.DataFrame(median_data)\n",
    "median_data"
   ]
  },
  {
   "cell_type": "code",
   "execution_count": null,
   "metadata": {},
   "outputs": [],
   "source": [
    "ax = median_data['MEDIAN SALE PRICE'].plot(kind='bar', figsize=(10, 5),color=['#CD5C5C'],fontsize=14, width=0.2)\n",
    "\n",
    "ax.set_title('Median Sale Price of Data for all clusters ',fontsize=14)\n",
    "#ax.spines['right'].set_visible(False)\n",
    "#ax.spines['top'].set_visible(False)\n",
    "#ax.spines['left'].set_visible(False)\n",
    "\n",
    "ax.set_ylabel('MEDIAN SALE PRICE',fontsize=14)"
   ]
  },
  {
   "cell_type": "markdown",
   "metadata": {},
   "source": [
    "## Result"
   ]
  },
  {
   "cell_type": "markdown",
   "metadata": {},
   "source": [
    "First of all, even though the London Housing Market may be in a rut, it is still an \"ever-green\" for business affairs.\n",
    "\n",
    "Key Observations under the Results:\n",
    "\n",
    "First, we may examine them according to neighborhoods of New York Areas.\n",
    "\n",
    "\n",
    "Cluster O:\n",
    "\n",
    "1. The average and Median price of Cluster one Neighborhoods are 403649.400000 and 406267.950000 respectively.\n",
    "2. The cluster contains following places -\n",
    "    CAMBRIA HEIGHTS          \n",
    "    JAMAICA                  \n",
    "    LAURELTON                \n",
    "    ROSEDALE                 \n",
    "    SOUTH JAMAICA            \n",
    "    SPRINGFIELD GARDENS      \n",
    "    ST. ALBANS               \n",
    "3. The most common venues nearby are Food Corner , Restaurants, Bank , Park. The no of Sales is less with respect to available properties.\n",
    "4. The properties are best to buy as it has very reasonable average and median rates and in addition to that it has elementary stuffs for daily needs .\n",
    "5. The place is best for food and restaurants but frequency of other amenities like hospital, schools is less.\n",
    "\n",
    "Cluster 1:\n",
    "\n",
    "1. The average and Median price of Cluster one Neighborhoods are 610196.027397 and 607131.506849 respectively.\n",
    "2. The cluster contains following places -\n",
    "    ASTORIA                  \n",
    "    BAYSIDE                  \n",
    "    BRIARWOOD                \n",
    "    CORONA                   \n",
    "    DOUGLASTON               \n",
    "    EAST ELMHURST            \n",
    "    ELMHURST                 \n",
    "    FLUSHING-NORTH           \n",
    "    FLUSHING-SOUTH           \n",
    "    FOREST HILLS             \n",
    "    FRESH MEADOWS            \n",
    "    GLENDALE                 \n",
    "    HILLCREST                \n",
    "    JACKSON HEIGHTS          \n",
    "    KEW GARDENS              \n",
    "    LITTLE NECK              \n",
    "    LONG ISLAND CITY         \n",
    "    MASPETH                  \n",
    "    MIDDLE VILLAGE           \n",
    "    OAKLAND GARDENS          \n",
    "    REGO PARK                \n",
    "    RICHMOND HILL            \n",
    "    RIDGEWOOD                \n",
    "    SUNNYSIDE                \n",
    "    WOODSIDE                 \n",
    "\n",
    "3. The average and median price is more compare to all other clusters .The most common venues nearby are  Supermarkets , Restaurants, Bar , Park and Bagel Shop.\n",
    "\n",
    "Cluster 2:\n",
    "\n",
    "1. The average and Median price of Cluster one Neighborhoods are 474991.333333 and 458104.6 respectively.\n",
    "2. The cluster contains following places-\n",
    "    ARVERNE                  \n",
    "    BELLE HARBOR             \n",
    "    FAR ROCKAWAY             \n",
    "    HAMMELS                  \n",
    "    NEPONSIT                 \n",
    "    ROCKAWAY PARK            \n",
    "3. The most common venues nearby are Beach, Pizza place,Bank,Bus stop and all kinds of Food Corners.\n",
    "4. This should be second most preferred properties after Cluster 0 properties due to its average and median rates.\n",
    "\n",
    "Cluster 3:\n",
    "\n",
    "1. The average and Median price of Cluster one Neighborhoods are 511496.795918 and 458104.600000 respectively.\n",
    "2. The cluster contains following places-\n",
    "    AIRPORT LA GUARDIA       \n",
    "    BEECHHURST               \n",
    "    BELLEROSE                \n",
    "    BROAD CHANNEL            \n",
    "    COLLEGE POINT            \n",
    "    FLORAL PARK              \n",
    "    GLEN OAKS                \n",
    "    HOLLIS                   \n",
    "    HOLLIS HILLS             \n",
    "    HOLLISWOOD               \n",
    "    HOWARD BEACH             \n",
    "    JAMAICA BAY              \n",
    "    JAMAICA ESTATES          \n",
    "    JAMAICA HILLS            \n",
    "    OZONE PARK               \n",
    "    QUEENS VILLAGE           \n",
    "    SO. JAMAICA-BAISLEY PARK \n",
    "    SOUTH OZONE PARK         \n",
    "    WHITESTONE               \n",
    "    WOODHAVEN                \n",
    "3. The most common venues nearby are Airport Lounge,Burger Joint,Pharmacy,Coffee Shop ,Parks etc.\n",
    ".\n",
    "4. The real estate properties are more expensive after cluster 1 properties."
   ]
  },
  {
   "cell_type": "markdown",
   "metadata": {},
   "source": [
    "## Conclusion"
   ]
  },
  {
   "cell_type": "markdown",
   "metadata": {},
   "source": [
    "At Last we state the problem scenario.\n",
    "\n",
    "The problem scenario is to suggest the home buyers clients to purchase a suitable real estate in New York using Machine Learning Algorithms.\n",
    "\n",
    "As a result, the business problem we are currently posing is:\n",
    "\n",
    "How could we provide suggestions to home buyers clients to purchase a suitable real estate in New York street in this depreciating economy?\n",
    "\n",
    "To solve this business problem, we are going to cluster New York neighborhoods in order to recommend venues and the current average price of real estate where home buyers can make a real estate investment.Also we will recommend profitable venues venues i.e. pharmacy , restaurants, hospitals & grocery stores.\n",
    "\n",
    "First, we gathered data from The Department of Finance (DOF) maintains records for all property sales in New York City, including sales of family homes in each borough(https://data.cityofnewyork.us/api/views/948r-3ads/rows.csv?accessType=DOWNLOAD).\n",
    "\n",
    "This list includes all sales of 1-, 2-, and 3-Family Homes' from January 1st, 2009 to December 31, 2009, whose sale price is equal to or more than $150,000. The Building Class Category for Sales is based on the Building Class at the time of the sale.\n",
    "\n",
    "To explore and target recommended locations across different venues according to the presence of amenities and essential facilities, we will access data through FourSquare API interface and arrange them as a dataframe for visualization. By merging data on New York properties and the relative price paid data from the HM Land Registry and data on amenities and essential facilities surrounding such properties from FourSquare API interface, we will be able to recommend profitable real estate investments.\n",
    "\n",
    "\n",
    "At last ,  We may analyze our results according to the five clusters we have produced. Even though, all clusters could praise an optimal range of facilities and amenities.\n",
    "\n",
    "Cluster 3 - It have properties with almost average and median nearly close to each other and also the common venues also matching to each other but properties has more                 expensive than Cluster 1.\n",
    "\n",
    "Cluster 0 and 2 - The average and median price is less compare to other clusters.\n",
    "\n",
    "Cluster 1 - The average and median price is more compare to other clusters."
   ]
  },
  {
   "cell_type": "code",
   "execution_count": null,
   "metadata": {},
   "outputs": [],
   "source": []
  }
 ],
 "metadata": {
  "kernelspec": {
   "display_name": "Python 3",
   "language": "python",
   "name": "python3"
  },
  "language_info": {
   "codemirror_mode": {
    "name": "ipython",
    "version": 3
   },
   "file_extension": ".py",
   "mimetype": "text/x-python",
   "name": "python",
   "nbconvert_exporter": "python",
   "pygments_lexer": "ipython3",
   "version": "3.6.8"
  }
 },
 "nbformat": 4,
 "nbformat_minor": 2
}
